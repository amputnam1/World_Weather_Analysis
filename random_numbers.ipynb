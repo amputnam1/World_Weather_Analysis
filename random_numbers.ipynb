{
 "cells": [
  {
   "cell_type": "code",
   "execution_count": 1,
   "id": "e90b3343",
   "metadata": {},
   "outputs": [],
   "source": [
    "# Import the random module.\n",
    "import random"
   ]
  },
  {
   "cell_type": "code",
   "execution_count": 3,
   "id": "6c1d1c01",
   "metadata": {},
   "outputs": [
    {
     "data": {
      "text/plain": [
       "0.04091448479772952"
      ]
     },
     "execution_count": 3,
     "metadata": {},
     "output_type": "execute_result"
    }
   ],
   "source": [
    "random.random()"
   ]
  },
  {
   "cell_type": "code",
   "execution_count": 8,
   "id": "ad9f29f5",
   "metadata": {},
   "outputs": [
    {
     "data": {
      "text/plain": [
       "-70"
      ]
     },
     "execution_count": 8,
     "metadata": {},
     "output_type": "execute_result"
    }
   ],
   "source": [
    "random.randint(-90, 90)"
   ]
  },
  {
   "cell_type": "code",
   "execution_count": 19,
   "id": "bd668266",
   "metadata": {},
   "outputs": [],
   "source": [
    "x = 1\n",
    "latitudes = []\n",
    "while x < 11:\n",
    "    random_lat = random.randint(-90, 89) + random.random()\n",
    "    latitudes.append(random_lat)\n",
    "    x += 1"
   ]
  },
  {
   "cell_type": "code",
   "execution_count": 11,
   "id": "65116cea",
   "metadata": {},
   "outputs": [],
   "source": [
    "# Import the NumPy module.\n",
    "import numpy as np"
   ]
  },
  {
   "cell_type": "code",
   "execution_count": 12,
   "id": "617ad98a",
   "metadata": {},
   "outputs": [
    {
     "data": {
      "text/plain": [
       "24.122563526862407"
      ]
     },
     "execution_count": 12,
     "metadata": {},
     "output_type": "execute_result"
    }
   ],
   "source": [
    "np.random.uniform(-90.000, 90.000) "
   ]
  },
  {
   "cell_type": "code",
   "execution_count": 13,
   "id": "236a1db4",
   "metadata": {},
   "outputs": [
    {
     "data": {
      "text/plain": [
       "75.04247119650182"
      ]
     },
     "execution_count": 13,
     "metadata": {},
     "output_type": "execute_result"
    }
   ],
   "source": [
    "np.random.uniform(low=-90, high=90)"
   ]
  },
  {
   "cell_type": "code",
   "execution_count": 14,
   "id": "2fe12e11",
   "metadata": {},
   "outputs": [
    {
     "data": {
      "text/plain": [
       "array([-23.46141351, -15.98267566,  28.59046245,  71.07632676,\n",
       "        43.97709514,  17.36272825, -81.46212897, -39.79301501,\n",
       "        -7.36183013, -30.71513899,  70.91462038,  22.15780337,\n",
       "       -54.93844822, -51.77348699, -86.26908347,  24.73671446,\n",
       "        29.00178322, -83.35777159, -78.89193655, -38.39992404,\n",
       "        89.92012124,  56.56611528,  10.62993515, -29.85365432,\n",
       "       -88.29620834,  72.57053296, -46.01578077, -48.20076144,\n",
       "        14.46663469, -85.18240146, -43.61530851,  -6.58158253,\n",
       "        41.81882371,   3.41447432, -41.55625762,  52.92613389,\n",
       "        40.61985411, -78.09654604,  53.29874704, -23.77665164,\n",
       "        29.89502394,  33.76725494, -19.85471245,   6.89736137,\n",
       "       -45.30660468,  49.75769547, -71.05203622, -65.61307486,\n",
       "       -78.03682685,  36.59190446])"
      ]
     },
     "execution_count": 14,
     "metadata": {},
     "output_type": "execute_result"
    }
   ],
   "source": [
    "np.random.uniform(-90.000, 90.000, size=50)"
   ]
  },
  {
   "cell_type": "code",
   "execution_count": 17,
   "id": "bff54a03",
   "metadata": {},
   "outputs": [
    {
     "name": "stdout",
     "output_type": "stream",
     "text": [
      "15.1 µs ± 795 ns per loop (mean ± std. dev. of 7 runs, 100,000 loops each)\n"
     ]
    }
   ],
   "source": [
    "# Import timeit.\n",
    "import timeit\n",
    "%timeit np.random.uniform(-90.000, 90.000, size=1500)"
   ]
  },
  {
   "cell_type": "code",
   "execution_count": 18,
   "id": "d566c2f7",
   "metadata": {},
   "outputs": [
    {
     "name": "stdout",
     "output_type": "stream",
     "text": [
      "1.5 ms ± 58.3 µs per loop (mean ± std. dev. of 7 runs, 1,000 loops each)\n"
     ]
    }
   ],
   "source": [
    "def latitudes(size):\n",
    "    latitudes = []\n",
    "    x = 0\n",
    "    while x < (size):\n",
    "        random_lat = random.randint(-90, 90) + random.random()\n",
    "        latitudes.append(random_lat)\n",
    "        x += 1\n",
    "    return latitudes\n",
    "# Call the function with 1500.\n",
    "%timeit latitudes(1500)"
   ]
  },
  {
   "cell_type": "code",
   "execution_count": null,
   "id": "a8019490",
   "metadata": {},
   "outputs": [],
   "source": []
  }
 ],
 "metadata": {
  "kernelspec": {
   "display_name": "PythonData",
   "language": "python",
   "name": "pythondata"
  },
  "language_info": {
   "codemirror_mode": {
    "name": "ipython",
    "version": 3
   },
   "file_extension": ".py",
   "mimetype": "text/x-python",
   "name": "python",
   "nbconvert_exporter": "python",
   "pygments_lexer": "ipython3",
   "version": "3.9.7"
  }
 },
 "nbformat": 4,
 "nbformat_minor": 5
}
